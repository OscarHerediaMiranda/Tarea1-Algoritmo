{
  "nbformat": 4,
  "nbformat_minor": 0,
  "metadata": {
    "colab": {
      "name": "Tarea1-Algoritmo.ipynb",
      "provenance": [],
      "authorship_tag": "ABX9TyO/NkM/t2JxANgFKlmlpxGQ",
      "include_colab_link": true
    },
    "kernelspec": {
      "name": "python3",
      "display_name": "Python 3"
    },
    "language_info": {
      "name": "python"
    }
  },
  "cells": [
    {
      "cell_type": "markdown",
      "metadata": {
        "id": "view-in-github",
        "colab_type": "text"
      },
      "source": [
        "<a href=\"https://colab.research.google.com/github/OscarHerediaMiranda/Tarea1-Algoritmo/blob/main/Tarea1_Algoritmo.ipynb\" target=\"_parent\"><img src=\"https://colab.research.google.com/assets/colab-badge.svg\" alt=\"Open In Colab\"/></a>"
      ]
    },
    {
      "cell_type": "code",
      "metadata": {
        "colab": {
          "base_uri": "https://localhost:8080/"
        },
        "id": "Rvo6wBIeiVj4",
        "outputId": "b9c89cb3-1d4b-4209-df96-fe06a23ce5b8"
      },
      "source": [
        "%%writefile R1.cpp\n",
        "#include<iostream>\n",
        "#include<string>\n",
        "#include<vector>\n",
        "#include<fstream>\n",
        "#include<functional>\n",
        "using namespace std;\n",
        "template<class T>\n",
        "class Nodo {\n",
        "public:\n",
        "\tT dato;\n",
        "\tNodo<T>* siguiente;\n",
        "\tNodo(T dato) {\n",
        "\t\tthis->dato = dato;\n",
        "\t\tthis->siguiente = NULL;\n",
        "\t}\n",
        "};\n",
        "template<class T>\n",
        "class Lista {\n",
        "public:\n",
        "\tNodo<T>* head;\n",
        "\tLista() {\n",
        "\t\tthis->head = NULL;\n",
        "\t}\n",
        "\tvoid Insertar(T dato) {\n",
        "\t\tNodo<T>* elemento = new Nodo<T>(dato);\n",
        "\t\tif (head == NULL) {\n",
        "\t\t\thead = elemento;\n",
        "\t\t\telemento->siguiente = NULL;\n",
        "\t\t}\n",
        "\t\telse {\n",
        "\t\t\tNodo<T>* p = head, * prev = head;\n",
        "\t\t\twhile (p != NULL) {\n",
        "\t\t\t\tprev = p;\n",
        "\t\t\t\tp = p->siguiente;\n",
        "\t\t\t}\n",
        "\t\t\tprev->siguiente = elemento;\n",
        "\t\t\telemento->siguiente = NULL;\n",
        "\t\t}\n",
        "\t}\n",
        "\tvoid Impresion() {\n",
        "\t\tNodo<T>* p = head;\n",
        "\t\twhile (p != NULL) {\n",
        "\t\t\tp->dato.Imprimir();\n",
        "\t\t\tp = p->siguiente;\n",
        "\t\t}\n",
        "\t}\n",
        "};\n",
        "template<class T>\n",
        "class Personaje {\n",
        "public:\n",
        "    string Nombre;\n",
        "    T Vida;\n",
        "    T Nivel;\n",
        "    T Fuerza;\n",
        "    T Velocidad;\n",
        "    Personaje(string Nombre, T Vida, T Nivel, T Fuerza, T Velocidad) {\n",
        "        this->Nombre = Nombre;\n",
        "        this->Vida = Vida;\n",
        "        this->Nivel = Nivel;\n",
        "        this->Fuerza = Fuerza;\n",
        "        this->Velocidad = Velocidad;\n",
        "    }\n",
        "    Personaje() {\n",
        "        this->Nombre = \" \";\n",
        "        this->Vida = 0;\n",
        "        this->Nivel = 0;\n",
        "        this->Fuerza = 0;\n",
        "        this->Velocidad = 0;\n",
        "    }\n",
        "    void Imprimir() {\n",
        "        cout << \"NOMBRE: \" << Nombre << endl;\n",
        "        cout << \"VIDA: \" << Vida << endl;\n",
        "        cout << \"NIVEL: \" << Nivel << endl;\n",
        "        cout << \"FUERZA: \" << Fuerza << endl;\n",
        "        cout << \"VELOCIDAD: \" << Velocidad << endl;\n",
        "        cout << endl;\n",
        "    }\n",
        "};\n",
        "Lista<Personaje<int>>* personaje = new Lista<Personaje<int>>();\n",
        "void Inicializando(function<void(string, Lista<Personaje<int>>*)>criterio) {\n",
        "    string archivo = \"/content/Personaje,vf.txt\";\n",
        "    criterio(archivo, personaje);\n",
        "}\n",
        "int main() {\n",
        "    auto parametro = [](string archivo, Lista<Personaje<int>>* personaje) ->void {\n",
        "        ifstream linea;\n",
        "        string aux;\n",
        "        linea.open(archivo);\n",
        "        int i = 0;\n",
        "        while (getline(linea, aux)) {\n",
        "            i = 0;\n",
        "            int spc = aux.find(\" \", i);\n",
        "            string Nombre = aux.substr(i, spc - i);\n",
        "            int spc1 = aux.find(\" \", spc + 1);\n",
        "            i = spc + 1;\n",
        "            int Vida = atoi(aux.substr(spc + 1, spc - i).c_str());\n",
        "            int spc2 = aux.find(\" \", spc1 + 1);\n",
        "            i = spc1 + 1;\n",
        "            int Nivel = atoi(aux.substr(spc1 + 1, spc1 - i).c_str());\n",
        "            int spc3 = aux.find(\" \", spc2 + 1);\n",
        "            i = spc2 + 1;\n",
        "            int Fuerza = atoi(aux.substr(spc2 + 1, spc2 - i).c_str());\n",
        "            i = spc3 + 1;\n",
        "            int Velocidad = atoi(aux.substr(spc3 + 1, spc3 - i).c_str());\n",
        "            personaje->Insertar(Personaje<int>(Nombre, Vida, Nivel, Fuerza, Velocidad));\n",
        "        }\n",
        "        linea.close();\n",
        "    };\n",
        "    Inicializando(parametro);\n",
        "    cout << \"IMPRIMIENDO INFORMACION: \" << endl;\n",
        "    personaje->Impresion();\n",
        "}\n",
        "\n"
      ],
      "execution_count": null,
      "outputs": [
        {
          "output_type": "stream",
          "name": "stdout",
          "text": [
            "Overwriting R1.cpp\n"
          ]
        }
      ]
    },
    {
      "cell_type": "code",
      "metadata": {
        "colab": {
          "base_uri": "https://localhost:8080/"
        },
        "id": "eineCSXFix2f",
        "outputId": "720ac2d8-5d63-4942-94b9-5259beb77a04"
      },
      "source": [
        "!g++ R1.cpp && ./a.out"
      ],
      "execution_count": null,
      "outputs": [
        {
          "output_type": "stream",
          "name": "stdout",
          "text": [
            "IMPRIMIENDO INFORMACION: \n",
            "NOMBRE: Oscar\n",
            "VIDA: 5\n",
            "NIVEL: 3\n",
            "FUERZA: 2\n",
            "VELOCIDAD: 3\n",
            "\n",
            "NOMBRE: Mauricio\n",
            "VIDA: 6\n",
            "NIVEL: 1\n",
            "FUERZA: 4\n",
            "VELOCIDAD: 5\n",
            "\n",
            "NOMBRE: Marcos\n",
            "VIDA: 6\n",
            "NIVEL: 5\n",
            "FUERZA: 9\n",
            "VELOCIDAD: 10\n",
            "\n",
            "NOMBRE: Carla\n",
            "VIDA: 9\n",
            "NIVEL: 8\n",
            "FUERZA: 7\n",
            "VELOCIDAD: 6\n",
            "\n",
            "NOMBRE: Maria\n",
            "VIDA: 10\n",
            "NIVEL: 11\n",
            "FUERZA: 12\n",
            "VELOCIDAD: 14\n",
            "\n"
          ]
        }
      ]
    }
  ]
}